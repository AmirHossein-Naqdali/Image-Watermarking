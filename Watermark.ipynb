{
 "cells": [
  {
   "cell_type": "markdown",
   "metadata": {
    "id": "nbwhmX1XIZkT"
   },
   "source": [
    "<div align=center>\n",
    "\t\t\n",
    "<p></p>\n",
    "<p></p>\n",
    "<font size=5>\n",
    "In the Name of God\n",
    "<font/>\n",
    "<p></p>\n",
    " <br/>\n",
    "    <br/>\n",
    "    <br/>\n",
    "<font color=#FF7500>\n",
    "Sharif University of Technology - Departmenet of Computer Engineering\n",
    "</font>\n",
    "<p></p>\n",
    "<font color=blue>\n",
    "Linear Algebra \n",
    "<br>\n",
    "Prof. Hamid R. Rabiee\n",
    "<br>\n",
    "Dr. Maryam Ramezani\n",
    "</font>\n",
    "<br/>\n",
    "<br/>\n",
    "Fall 2022\n",
    "\n",
    "</div>\n",
    "\n",
    "<hr/>\n",
    "\t\t<div align=center>\n",
    "\t\t    <font color=red size=6>\n",
    "\t\t\t    <br />\n",
    "Project - Q1 <br>\n",
    "Watermark Images using SVD\n",
    "\n",
    "(35% of the overall project grade)\n",
    "            \t<br/>\n",
    "\t\t\t</font>\n",
    "<font size=4>\n",
    "\t\t\t<br/><br/>\n",
    "<font color=red>\n",
    "Please run all the cells.\n",
    "     </font>\n",
    "</font>\n",
    "<br>\n",
    "<font size=3 color=grey>\n",
    "</font>\n",
    "    </div>"
   ]
  },
  {
   "cell_type": "markdown",
   "metadata": {
    "id": "nHAwVOCSNYMV"
   },
   "source": [
    "Name: Amir Hossein Naqdalie\n",
    "<br>\n",
    "Student Number: 400105296"
   ]
  },
  {
   "cell_type": "markdown",
   "metadata": {
    "id": "VCg4Lseuuo6B"
   },
   "source": [
    "# Watermark"
   ]
  },
  {
   "cell_type": "markdown",
   "metadata": {
    "id": "2NFw3t2j2bt7"
   },
   "source": [
    "A watermark is an image, overlay, or text that's placed over a digital asset. Usually, the image will be monochromatic and transparent, to enable others to still view the asset. You can read about the importance of the watermark in this [link](https://www.mediavalet.com/blog/watermarks-are-important/#)."
   ]
  },
  {
   "cell_type": "markdown",
   "metadata": {
    "id": "UlqdoYMKm-x3"
   },
   "source": [
    "# Add Watermark"
   ]
  },
  {
   "cell_type": "markdown",
   "metadata": {
    "id": "dCABtRMrhpmg"
   },
   "source": [
    "## Imports"
   ]
  },
  {
   "cell_type": "code",
   "execution_count": 81,
   "metadata": {
    "id": "oCnYQJ9PIZkb"
   },
   "outputs": [],
   "source": [
    "import numpy as np\n",
    "import cv2\n",
    "# from google.colab.patches import cv2_imshow\n",
    "from PIL import Image"
   ]
  },
  {
   "cell_type": "markdown",
   "metadata": {
    "id": "d_TFYHuahxB3"
   },
   "source": [
    "## Load & Show Images\n",
    "If you are using colab, you can upload the files by running the following cell."
   ]
  },
  {
   "cell_type": "code",
   "execution_count": 82,
   "metadata": {
    "id": "jVPaQaWZSHgZ"
   },
   "outputs": [],
   "source": [
    "# from google.colab import files\n",
    "# uploaded = files.upload()"
   ]
  },
  {
   "cell_type": "markdown",
   "metadata": {
    "id": "TvhK-cE9_lWI"
   },
   "source": [
    "In the following cell, load the original image and the logo from the folder add_watermark and plot them using the ```cv2``` library. \n",
    "\n",
    "Note: both the image and the logo should be gray-scale."
   ]
  },
  {
   "cell_type": "code",
   "execution_count": 83,
   "metadata": {
    "id": "bLXgbQJbJgXO"
   },
   "outputs": [],
   "source": [
    "original_img = cv2.imread('add_watermark/dog.png', 0)\n",
    "watermark_img = cv2.imread('add_watermark/logo.png', 0)\n",
    "\n",
    "cv2.imshow(\"Dog\", original_img)\n",
    "cv2.waitKey(2000)\n",
    "cv2.destroyAllWindows()\n",
    "\n",
    "cv2.imshow(\"Logo\", watermark_img)\n",
    "cv2.waitKey(2000)\n",
    "cv2.destroyAllWindows()"
   ]
  },
  {
   "cell_type": "markdown",
   "metadata": {
    "id": "aI3VXegRx-SJ"
   },
   "source": [
    "## Implementation [50 points]"
   ]
  },
  {
   "cell_type": "markdown",
   "metadata": {
    "id": "j7moyGofyBnG"
   },
   "source": [
    "In this part you should add watermark to the original image. You should implement the following algorithm.\n",
    "\n",
    "1. Perform SVD on the original image (A matrix) and form the result as $USV^T$.\n",
    "\n",
    "2. Add watermark (W matrix), muliplied by a coefficine K, to the SVs of the original matrix. (S matrix in the previous step)\n",
    "\n",
    "3. Now, perform SVD again on matrix D.\n",
    "\n",
    "4. Replace the matrix S in the first step, with the SVs of the previous step (the middle matrix in step 3) to get the watermarked image.\n",
    "\n"
   ]
  },
  {
   "cell_type": "code",
   "execution_count": 84,
   "metadata": {
    "id": "LClNFGnYIZkb"
   },
   "outputs": [],
   "source": [
    "def encode_watermark(original_img, watermark_img, watermarked_coeff=0.7):\n",
    "    U, S, VH = np.linalg.svd(original_img, full_matrices=False)\n",
    "    \n",
    "    D = watermarked_coeff * watermark_img + np.diag(S)\n",
    "    \n",
    "    S_D = np.linalg.svd(D, full_matrices=False, compute_uv=False)\n",
    "\n",
    "    watermarked_image = U @ np.diag(S_D) @ VH\n",
    "    watermarked_image = watermarked_image.astype(np.uint8)\n",
    "    return watermarked_image"
   ]
  },
  {
   "cell_type": "markdown",
   "metadata": {
    "id": "EwAxZW_pAdii"
   },
   "source": [
    "Display the watermarked image. "
   ]
  },
  {
   "cell_type": "code",
   "execution_count": 85,
   "metadata": {
    "id": "3Ao4CglBaMsC"
   },
   "outputs": [],
   "source": [
    "watermarked_coeff = [0, 0.00001, 0.1, 0.7, 2, 10, 50, 100, 200]\n",
    "\n",
    "for coeff in watermarked_coeff:\n",
    "    watermarked_img = encode_watermark(original_img, watermark_img, coeff)\n",
    "    cv2.imshow(\"Watermarked \" + str(coeff), watermarked_img)\n",
    "    cv2.waitKey(2000)\n",
    "    cv2.destroyAllWindows()"
   ]
  },
  {
   "cell_type": "markdown",
   "metadata": {
    "id": "7W-uIXMgByti"
   },
   "source": [
    "Explain about the place you added the logo. How is the watermarked image visually different from the original image? [5 points]"
   ]
  },
  {
   "cell_type": "markdown",
   "metadata": {
    "id": "jf6U7aeYLQ1c"
   },
   "source": [
    "Answer: Since we apply changes to singular values matrix of the original image, that's where the logo is added in the new image. Watermark image will somehow be a transparent texture for the original image.(We can say that rate of transparency and how much watermark affects the watermarked image depends on the value of watermarking coefficient)"
   ]
  },
  {
   "cell_type": "markdown",
   "metadata": {
    "id": "PHvgBKz60459"
   },
   "source": [
    "# Watermark Extraction [45 points]"
   ]
  },
  {
   "cell_type": "markdown",
   "metadata": {
    "id": "YOPa13hMpUCm"
   },
   "source": [
    "## Load Files"
   ]
  },
  {
   "cell_type": "code",
   "execution_count": 86,
   "metadata": {
    "id": "sMnN2LEGtTsc"
   },
   "outputs": [],
   "source": [
    "# from google.colab import files\n",
    "# uploaded = files.upload()"
   ]
  },
  {
   "cell_type": "code",
   "execution_count": 87,
   "metadata": {
    "id": "OMsDvnoRoXdm"
   },
   "outputs": [],
   "source": [
    "watermarked_u = np.load('extract_watermark/watermarked_u.npy')\n",
    "watermarked_vh = np.load('extract_watermark/watermarked_vh.npy')\n",
    "S = np.load('extract_watermark/S.npy')\n",
    "watermarked_img = cv2.imread('extract_watermark/watermarked_image.jpg', 0)"
   ]
  },
  {
   "cell_type": "markdown",
   "metadata": {
    "id": "nR_SKsCYqo9y"
   },
   "source": [
    "## Implementation "
   ]
  },
  {
   "cell_type": "markdown",
   "metadata": {
    "id": "_oK9GxmByWx2"
   },
   "source": [
    "The task in this part is to extract the watermarked image from a distorted one ($A^*_w$ matrix) and write the sentence that is written in the watermarked image. The matrix of singular values (S) from the original image, $U_w$, $V^T_w$, and the watermarked image are given to you.\n",
    "\n",
    "1. Perform SVD on the distorted watermarked image ($A^*_w$ matrix) in the form of $U^* S^*_w V^{*T}$.\n",
    "\n",
    "2. Compute the matrix that includes the watermark by $D^* = U_w S^*_w V^T_w$.\n",
    "\n",
    "3. Compute the corrupted watermark by subtracting the matrix $S$ from $D^*$ and dividing the result by the coefficient of the watermark, $K$.\n"
   ]
  },
  {
   "cell_type": "code",
   "execution_count": 88,
   "metadata": {
    "id": "des0DDGt25gw"
   },
   "outputs": [],
   "source": [
    "def get_watermark(watermarked_img, watermarked_u, S, watermarked_vh, watermarked_coeff):\n",
    "    U, S, VH = np.linalg.svd(watermarked_img, full_matrices=False)\n",
    "    D = watermarked_u @ np.diag(S) @ watermarked_vh\n",
    "    watermark = (D - S) / watermarked_coeff\n",
    "    return watermark"
   ]
  },
  {
   "cell_type": "markdown",
   "metadata": {
    "id": "IbauGXQhFrJ4"
   },
   "source": [
    "Get the watermark logo and display it. Note that in this section we do not know the watermark coefficient. You have to run the previous cell's function for at least 5 different coefficients and compare the results.   "
   ]
  },
  {
   "cell_type": "code",
   "execution_count": 89,
   "metadata": {
    "id": "KSooqGefGCS4"
   },
   "outputs": [],
   "source": [
    "watermarked_coeff = [0.00001, 0.1, 0.7, 1, 2, 10, 50, 100, 200, 500, 1000]\n",
    "\n",
    "for coeff in watermarked_coeff:\n",
    "    watermark_img = get_watermark(watermarked_img, watermarked_u, S, watermarked_vh, coeff)\n",
    "    cv2.imshow(\"Watermark \" + str(coeff), watermark_img)\n",
    "    cv2.waitKey(2000)\n",
    "    cv2.destroyAllWindows()"
   ]
  },
  {
   "cell_type": "markdown",
   "metadata": {
    "id": "tsbOXQpmIqX8"
   },
   "source": [
    "Explain the effect of different coefficient values on the quality of the displayed logo. [5 points]"
   ]
  },
  {
   "cell_type": "markdown",
   "metadata": {
    "id": "iTfEgFzlJKdY"
   },
   "source": [
    "Answer: For different coefficients we recieve different multiplicants of the original watermark image. If we choose coefficient less than the actual coefficient we recieve a * watermark where a > 1. And if we choose coefficient bigger than the actual one we recieve a * watermark where a < 1.(And clearly for chosen_coefficient=actual_coefficient we have recieved_watermark=actual_watermark) So for values which are closer to the original value we will have higher qualities, and the more we get further from it the worse the quality gets."
   ]
  }
 ],
 "metadata": {
  "colab": {
   "provenance": []
  },
  "kernelspec": {
   "display_name": "Python 3 (ipykernel)",
   "language": "python",
   "name": "python3"
  },
  "language_info": {
   "codemirror_mode": {
    "name": "ipython",
    "version": 3
   },
   "file_extension": ".py",
   "mimetype": "text/x-python",
   "name": "python",
   "nbconvert_exporter": "python",
   "pygments_lexer": "ipython3",
   "version": "3.9.13"
  },
  "vscode": {
   "interpreter": {
    "hash": "ec415d86cb62838c02ce8418541071ab105638cb54d95f49357559783694be26"
   }
  }
 },
 "nbformat": 4,
 "nbformat_minor": 1
}
